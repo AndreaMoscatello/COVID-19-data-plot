{
 "cells": [
  {
   "cell_type": "code",
   "execution_count": 2,
   "metadata": {},
   "outputs": [
    {
     "name": "stdout",
     "output_type": "stream",
     "text": [
      "Downloading the data, may take a while...\n",
      "Download complete!\n"
     ]
    }
   ],
   "source": [
    "\"\"\"\n",
    "IMPORTANT: the following lines download the full github repository.\n",
    "you have to do this just once a day in order to update the data.\n",
    "Once the data are updated you'd better comment this, otherwise the program will download them again\n",
    "everytime and this will be much slower.\n",
    "Otherwise you can just manually download them from GitHub, this maybe will take less time.\n",
    "\n",
    "Also this is working in Ubuntu 18, and it requires svn to work:\n",
    "sudo apt install subversion\n",
    "I'm pretty sure this will not work on Windows os iOS.\n",
    "If you are not able to run thise section just delete it and download manually the directory from github.\n",
    "You may have to modify the os.chdir() argument then.\n",
    "\"\"\"\n",
    "\n",
    "import os\n",
    "\n",
    "print(\"Downloading the data, may take a while...\")\n",
    "stream = os.popen(\"svn checkout https://github.com/pcm-dpc/COVID-19/\")\n",
    "output = stream.read()\n",
    "output\n",
    "print(\"Download complete!\")"
   ]
  },
  {
   "cell_type": "code",
   "execution_count": null,
   "metadata": {},
   "outputs": [],
   "source": []
  }
 ],
 "metadata": {
  "kernelspec": {
   "display_name": "Python 3",
   "language": "python",
   "name": "python3"
  },
  "language_info": {
   "codemirror_mode": {
    "name": "ipython",
    "version": 3
   },
   "file_extension": ".py",
   "mimetype": "text/x-python",
   "name": "python",
   "nbconvert_exporter": "python",
   "pygments_lexer": "ipython3",
   "version": "3.7.6"
  }
 },
 "nbformat": 4,
 "nbformat_minor": 4
}
